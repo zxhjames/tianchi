{
 "metadata": {
  "language_info": {
   "codemirror_mode": {
    "name": "ipython",
    "version": 3
   },
   "file_extension": ".py",
   "mimetype": "text/x-python",
   "name": "python",
   "nbconvert_exporter": "python",
   "pygments_lexer": "ipython3",
   "version": "3.8.3-final"
  },
  "orig_nbformat": 2,
  "kernelspec": {
   "name": "python3",
   "display_name": "Python 3",
   "language": "python"
  }
 },
 "nbformat": 4,
 "nbformat_minor": 2,
 "cells": [
  {
   "cell_type": "code",
   "execution_count": 1,
   "metadata": {},
   "outputs": [],
   "source": [
    "import numpy as np\n",
    "import pandas as pd \n",
    "import matplotlib.pyplot as plt \n",
    "import seaborn as sns \n",
    "from scipy import stats\n",
    "import warnings\n",
    "warnings.filterwarnings(\"ignore\")\n",
    "\n",
    "from sklearn.linear_model import LinearRegression # 线性回归\n",
    "from sklearn.neighbors import KNeighborsRegressor # K近邻回归\n",
    "from sklearn.tree import DecisionTreeRegressor # 决策树回归\n",
    "from sklearn.ensemble import RandomForestRegressor # 随机森林回归\n",
    "from sklearn.svm import SVR # 支持向量机回归\n",
    "import lightgbm as lgb  # lightGBM模型\n",
    "from sklearn.model_selection import train_test_split # 切分数据\n",
    "from sklearn.metrics import mean_squared_error # 评价指标\n",
    "from sklearn.linear_model import SGDRegressor\n"
   ]
  },
  {
   "cell_type": "code",
   "execution_count": 2,
   "metadata": {},
   "outputs": [],
   "source": [
    "# 读取数据\n",
    "train_data_file= '../zhengqi_train.txt'\n",
    "test_data_file = '../zhengqi_test.txt'\n",
    "train_data = pd.read_csv(train_data_file,sep='\\t',encoding='utf-8')\n",
    "test_data = pd.read_csv(test_data_file,sep='\\t',encoding='utf-8')"
   ]
  },
  {
   "cell_type": "code",
   "execution_count": 3,
   "metadata": {},
   "outputs": [
    {
     "output_type": "execute_result",
     "data": {
      "text/plain": [
       "      V0     V1     V2     V3     V4     V5     V6     V7     V8     V9  ...  \\\n",
       "0  0.566  0.016 -0.143  0.407  0.452 -0.901 -1.812 -2.360 -0.436 -2.114  ...   \n",
       "1  0.968  0.437  0.066  0.566  0.194 -0.893 -1.566 -2.360  0.332 -2.114  ...   \n",
       "2  1.013  0.568  0.235  0.370  0.112 -0.797 -1.367 -2.360  0.396 -2.114  ...   \n",
       "3  0.733  0.368  0.283  0.165  0.599 -0.679 -1.200 -2.086  0.403 -2.114  ...   \n",
       "4  0.684  0.638  0.260  0.209  0.337 -0.454 -1.073 -2.086  0.314 -2.114  ...   \n",
       "\n",
       "     V29    V30    V31    V32    V33    V34    V35    V36    V37  target  \n",
       "0  0.136  0.109 -0.615  0.327 -4.627 -4.789 -5.101 -2.608 -3.508   0.175  \n",
       "1 -0.128  0.124  0.032  0.600 -0.843  0.160  0.364 -0.335 -0.730   0.676  \n",
       "2 -0.009  0.361  0.277 -0.116 -0.843  0.160  0.364  0.765 -0.589   0.633  \n",
       "3  0.015  0.417  0.279  0.603 -0.843 -0.065  0.364  0.333 -0.112   0.206  \n",
       "4  0.183  1.078  0.328  0.418 -0.843 -0.215  0.364 -0.280 -0.028   0.384  \n",
       "\n",
       "[5 rows x 39 columns]"
      ],
      "text/html": "<div>\n<style scoped>\n    .dataframe tbody tr th:only-of-type {\n        vertical-align: middle;\n    }\n\n    .dataframe tbody tr th {\n        vertical-align: top;\n    }\n\n    .dataframe thead th {\n        text-align: right;\n    }\n</style>\n<table border=\"1\" class=\"dataframe\">\n  <thead>\n    <tr style=\"text-align: right;\">\n      <th></th>\n      <th>V0</th>\n      <th>V1</th>\n      <th>V2</th>\n      <th>V3</th>\n      <th>V4</th>\n      <th>V5</th>\n      <th>V6</th>\n      <th>V7</th>\n      <th>V8</th>\n      <th>V9</th>\n      <th>...</th>\n      <th>V29</th>\n      <th>V30</th>\n      <th>V31</th>\n      <th>V32</th>\n      <th>V33</th>\n      <th>V34</th>\n      <th>V35</th>\n      <th>V36</th>\n      <th>V37</th>\n      <th>target</th>\n    </tr>\n  </thead>\n  <tbody>\n    <tr>\n      <th>0</th>\n      <td>0.566</td>\n      <td>0.016</td>\n      <td>-0.143</td>\n      <td>0.407</td>\n      <td>0.452</td>\n      <td>-0.901</td>\n      <td>-1.812</td>\n      <td>-2.360</td>\n      <td>-0.436</td>\n      <td>-2.114</td>\n      <td>...</td>\n      <td>0.136</td>\n      <td>0.109</td>\n      <td>-0.615</td>\n      <td>0.327</td>\n      <td>-4.627</td>\n      <td>-4.789</td>\n      <td>-5.101</td>\n      <td>-2.608</td>\n      <td>-3.508</td>\n      <td>0.175</td>\n    </tr>\n    <tr>\n      <th>1</th>\n      <td>0.968</td>\n      <td>0.437</td>\n      <td>0.066</td>\n      <td>0.566</td>\n      <td>0.194</td>\n      <td>-0.893</td>\n      <td>-1.566</td>\n      <td>-2.360</td>\n      <td>0.332</td>\n      <td>-2.114</td>\n      <td>...</td>\n      <td>-0.128</td>\n      <td>0.124</td>\n      <td>0.032</td>\n      <td>0.600</td>\n      <td>-0.843</td>\n      <td>0.160</td>\n      <td>0.364</td>\n      <td>-0.335</td>\n      <td>-0.730</td>\n      <td>0.676</td>\n    </tr>\n    <tr>\n      <th>2</th>\n      <td>1.013</td>\n      <td>0.568</td>\n      <td>0.235</td>\n      <td>0.370</td>\n      <td>0.112</td>\n      <td>-0.797</td>\n      <td>-1.367</td>\n      <td>-2.360</td>\n      <td>0.396</td>\n      <td>-2.114</td>\n      <td>...</td>\n      <td>-0.009</td>\n      <td>0.361</td>\n      <td>0.277</td>\n      <td>-0.116</td>\n      <td>-0.843</td>\n      <td>0.160</td>\n      <td>0.364</td>\n      <td>0.765</td>\n      <td>-0.589</td>\n      <td>0.633</td>\n    </tr>\n    <tr>\n      <th>3</th>\n      <td>0.733</td>\n      <td>0.368</td>\n      <td>0.283</td>\n      <td>0.165</td>\n      <td>0.599</td>\n      <td>-0.679</td>\n      <td>-1.200</td>\n      <td>-2.086</td>\n      <td>0.403</td>\n      <td>-2.114</td>\n      <td>...</td>\n      <td>0.015</td>\n      <td>0.417</td>\n      <td>0.279</td>\n      <td>0.603</td>\n      <td>-0.843</td>\n      <td>-0.065</td>\n      <td>0.364</td>\n      <td>0.333</td>\n      <td>-0.112</td>\n      <td>0.206</td>\n    </tr>\n    <tr>\n      <th>4</th>\n      <td>0.684</td>\n      <td>0.638</td>\n      <td>0.260</td>\n      <td>0.209</td>\n      <td>0.337</td>\n      <td>-0.454</td>\n      <td>-1.073</td>\n      <td>-2.086</td>\n      <td>0.314</td>\n      <td>-2.114</td>\n      <td>...</td>\n      <td>0.183</td>\n      <td>1.078</td>\n      <td>0.328</td>\n      <td>0.418</td>\n      <td>-0.843</td>\n      <td>-0.215</td>\n      <td>0.364</td>\n      <td>-0.280</td>\n      <td>-0.028</td>\n      <td>0.384</td>\n    </tr>\n  </tbody>\n</table>\n<p>5 rows × 39 columns</p>\n</div>"
     },
     "metadata": {},
     "execution_count": 3
    }
   ],
   "source": [
    "test_data.head(5)\n",
    "train_data.head(5)"
   ]
  },
  {
   "cell_type": "code",
   "execution_count": 4,
   "metadata": {},
   "outputs": [],
   "source": [
    "# 归一化处理\n",
    "from sklearn import preprocessing\n",
    "features_columns = [col for col in train_data.columns if col not in ['target']]\n",
    "min_max_scaler = preprocessing.MinMaxScaler()\n",
    "min_max_scaler = min_max_scaler.fit(train_data[features_columns])\n",
    "train_data_scaler = min_max_scaler.transform(train_data[features_columns])\n",
    "test_data_scaler = min_max_scaler.transform(test_data[features_columns])\n",
    "train_data_scaler = pd.DataFrame(train_data_scaler)\n",
    "train_data_scaler.columns = features_columns\n",
    "test_data_scaler = pd.DataFrame(test_data_scaler)\n",
    "test_data_scaler.columns = features_columns\n",
    "train_data_scaler['target'] = train_data['target']"
   ]
  },
  {
   "cell_type": "code",
   "execution_count": 5,
   "metadata": {},
   "outputs": [],
   "source": [
    "# PCA进行降维\n",
    "from sklearn.decomposition import PCA  # 主成分分析法\n",
    "# 保留16个主成分\n",
    "pca = PCA(n_components=16)\n",
    "new_train_pca_16 = pca.fit_transform(train_data_scaler.iloc[:,0:-1])\n",
    "new_test_pca_16 = pca.transform(test_data_scaler)\n",
    "new_train_pca_16 = pd.DataFrame(new_train_pca_16)\n",
    "new_test_pca_16 = pd.DataFrame(new_test_pca_16)\n",
    "new_train_pca_16['target'] = train_data_scaler['target']\n"
   ]
  },
  {
   "cell_type": "code",
   "execution_count": 6,
   "metadata": {},
   "outputs": [],
   "source": [
    "# 数据切分为训练数据和验证数据\n",
    "new_train_pca_16 = new_train_pca_16.fillna(0)\n",
    "train = new_train_pca_16[new_test_pca_16.columns]\n",
    "target = new_train_pca_16['target']\n",
    "train_data,test_data,train_target,test_target = train_test_split(train,target,test_size=0.2,random_state=0)"
   ]
  },
  {
   "cell_type": "code",
   "execution_count": 9,
   "metadata": {},
   "outputs": [
    {
     "output_type": "stream",
     "name": "stdout",
     "text": [
      "SGDRegressor train MSE:  0.1515065504853393\nSGDRegressor test MSE:  0.15591315580790757\n"
     ]
    }
   ],
   "source": [
    "# 欠拟合的情况\n",
    "clf = SGDRegressor(max_iter=500,tol=1e-2)\n",
    "clf.fit(train_data,train_target)\n",
    "score_train = mean_squared_error(train_target,clf.predict(train_data))\n",
    "score_test = mean_squared_error(test_target,clf.predict(test_data))\n",
    "print(\"SGDRegressor train MSE: \",score_train)\n",
    "print(\"SGDRegressor test MSE: \",score_test)"
   ]
  },
  {
   "cell_type": "code",
   "execution_count": null,
   "metadata": {},
   "outputs": [],
   "source": [
    "# 过拟合的情况\n",
    "from sklearn.preprocessing import PolynomialFeatures\n",
    "poly = PolynomialFeatures(5)"
   ]
  }
 ]
}